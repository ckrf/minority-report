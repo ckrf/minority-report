{
 "cells": [
  {
   "cell_type": "code",
   "execution_count": null,
   "metadata": {
    "hide_input": true
   },
   "outputs": [],
   "source": [
    "import numpy as np\n",
    "import pandas as pd\n",
    "import matplotlib\n",
    "import matplotlib.pyplot as plt\n",
    "\n",
    "from IPython.display import Image\n",
    "from IPython.display import display\n",
    "\n",
    "%matplotlib inline\n",
    "\n",
    "from sklearn import preprocessing\n",
    "from sklearn.preprocessing import PolynomialFeatures\n",
    "from sklearn.tree import DecisionTreeRegressor\n",
    "from sklearn.linear_model import LinearRegression\n",
    "from sklearn.linear_model import Lasso \n",
    "from sklearn.linear_model import Ridge\n",
    "from sklearn.linear_model import ElasticNet\n",
    "from sklearn.svm import LinearSVR\n",
    "\n",
    "from sklearn.ensemble import RandomForestRegressor\n",
    "from sklearn.ensemble import AdaBoostRegressor\n",
    "\n",
    "import seaborn as sns\n",
    "sns.set(style=\"whitegrid\", color_codes=True)\n",
    "import warnings\n",
    "warnings.filterwarnings('ignore')\n",
    "\n",
    "## Import variable descriptions\n",
    "\n",
    "import glob\n",
    "import re# get variable description\n",
    "\n",
    "def extract_section(file):\n",
    "    section = re.sub(\".*_S\",\"S\",file)\n",
    "    section = re.sub(\"01_metadata.csv\",\"\",section)\n",
    "    return(section)\n",
    "\n",
    "year_meta = 2010\n",
    "\n",
    "l_files = glob.glob(\"../Raw Data/aff_download (%i)/New folder/*.csv\"%year_meta) \n",
    "\n",
    "df_meta = pd.DataFrame()\n",
    "\n",
    "for s_file in l_files:\n",
    "    s_section = extract_section(s_file)\n",
    "    df_meta_local = pd.read_csv(s_file, header=None)\n",
    "    df_meta_local.columns = [\"variable\",\"description\"]\n",
    "    df_meta_local[\"section\"] = s_section\n",
    "    df_meta = df_meta.append(df_meta_local)\n",
    "\n",
    " \n",
    "df_meta[\"variable\"] =  df_meta[\"section\"] + \"_\" + df_meta[\"variable\"]\n",
    "df_meta = df_meta.drop(axis=1,labels=\"section\")\n",
    "df_meta.head()\n",
    "\n",
    "def get_descriptions(l_vars,df_meta):\n",
    "    return(df_meta[df_meta.variable.isin(l_vars)])\n",
    "\n",
    "get_descriptions([\"S01_HC01_EST_VC01\",\"S01_HC01_EST_VC03\"],df_meta)\n",
    "\n",
    "## Import cleaned crime data\n",
    "# Create murder per million variable\n",
    "\n",
    "df_crime = pd.read_csv(\"../Processed Data/cleanedDataPreImputation_Dummies.csv\", encoding='latin-1')\n",
    "\n",
    "df_crime.head()\n",
    "\n",
    "one_million = 1000000\n",
    "\n",
    "df_crime[\"murder_fbi_per_million\"] = df_crime.murder_fbi/df_crime.population_fbi *one_million\n",
    "\n",
    "\n",
    "## Train test split and imputing by mean of train\n",
    "\n",
    "df_train = df_crime[df_crime[\"year\"]<=2013]\n",
    "df_test = df_crime[df_crime[\"year\"]>2013]\n",
    "\n",
    "df_test = df_test[~pd.isnull(df_test.murder_fbi)]\n",
    "\n",
    "missing = df_train.agg(func = lambda x: np.mean(pd.isnull(x)))\n",
    "\n",
    "y_var = \"murder_fbi_per_million\"\n",
    "y_var_count = \"murder_fbi\"\n",
    "population_var = \"population_fbi\"\n",
    "x_vars = pd.Series(missing[ missing < .20].index)\n",
    "\n",
    "\n",
    "vars_small_model = [\n",
    "\"sex_ratio\",\n",
    "\"median_income\",\n",
    "\"median_age\",\n",
    "\"pop_language_english\",\n",
    "\"citizenship\",\n",
    "\"moved_same_county\",\n",
    "\"moved_different_county\",\n",
    "\"public_transportation\",\n",
    "\"travel_time_to_work\",\n",
    "]\n",
    "\n",
    "\n",
    "\n",
    "\n",
    "\n",
    "x_vars = list(x_vars[x_vars.str.contains(\"S\\\\d\\\\d_\")])\n",
    "vars_employment = ['civilianlaborforce',\n",
    " 'unemploymentrate',\n",
    " 'unemployment_mean',\n",
    " 'unemployment_max',\n",
    " 'unemployment_min',\n",
    " 'unemployment_median',\n",
    " 'unemployment_change']\n",
    "\n",
    "x_vars = x_vars + vars_employment +vars_small_model\n",
    "x_vars.remove(\"S01_HC01_EST_VC01\")\n",
    "\n",
    "\n",
    "from sklearn.preprocessing import StandardScaler\n",
    "\n",
    "x_train = df_train[x_vars]\n",
    "x_test = df_test[x_vars]\n",
    "\n",
    "y_train = df_train[y_var]\n",
    "y_test = df_test[y_var]\n",
    "\n",
    "y_train_count = df_train[y_var_count]\n",
    "y_test_count = df_test[y_var_count]\n",
    "\n",
    "population_train = df_train[population_var]\n",
    "population_test = df_test[population_var]\n",
    "\n",
    "imp = preprocessing.Imputer()\n",
    "\n",
    "imp.fit(x_train)\n",
    "\n",
    "x_train = pd.DataFrame(imp.transform(x_train), columns=x_train.columns)\n",
    "x_test = pd.DataFrame(imp.transform(x_test), columns=x_test.columns)\n",
    "\n",
    "\n",
    "scaler = StandardScaler()\n",
    "scaler.fit(x_train)\n",
    "\n",
    "x_train = pd.DataFrame(scaler.transform(x_train), columns=x_train.columns)\n",
    "x_test = pd.DataFrame(scaler.transform(x_test), columns=x_test.columns)\n",
    "\n",
    "\n",
    "\n",
    "## Helper functions for modeling\n",
    "\n",
    "\n",
    "from sklearn.model_selection import KFold\n",
    "\n",
    "def cross_validate_models(x_train, \n",
    "                          y_train, \n",
    "                          population_train,\n",
    "                          d_models,measure_function, \n",
    "                          n_splits=5):\n",
    "    cv = KFold(n_splits=n_splits,random_state=200) \n",
    "\n",
    "    df_measure = pd.DataFrame()\n",
    "    count=0\n",
    "    for train_obs, valid_obs in cv.split(x_train, y_train):\n",
    "        count+=1\n",
    "        x_train_local = x_train.iloc[train_obs,:]\n",
    "        x_validation = x_train.iloc[valid_obs,:]\n",
    "        y_train_local = y_train.iloc[train_obs]\n",
    "        y_validation = y_train.iloc[valid_obs]\n",
    "        #population_train_local = population_train.iloc[train_obs] # not used\n",
    "        population_validation = population_train.iloc[valid_obs]\n",
    "        for model_name in iter(d_models):\n",
    "            #print(model_name)\n",
    "            model = d_models[model_name]\n",
    "            model.fit(x_train_local,y_train_local)\n",
    "            measure_local = measure_function(model, x_validation, y_validation,population_validation)\n",
    "            df_measure_local = pd.DataFrame(dict(model=[model_name],\n",
    "                                                measure = [measure_local]))\n",
    "            df_measure=df_measure.append(df_measure_local)\n",
    "    return(df_measure)\n",
    "\n",
    "\n",
    "from sklearn.metrics import r2_score\n",
    "\n",
    "def calc_rsquared(model, x_test, y_test,population_test):\n",
    "    one_million = 1000000\n",
    "    y_test_local = y_test/one_million * population_test\n",
    "    estimate = model.predict(x_test) \n",
    "    estimate = estimate/one_million * population_test\n",
    "    r2 = r2_score(y_test_local, estimate)\n",
    "    return(r2)\n",
    "\n",
    "\n",
    "## Very simple model\n",
    "\n",
    "x_vars_very_simple = [\"sex_ratio\",\n",
    "\"median_income\",\n",
    "\"median_age\",]\n",
    "\n",
    "\n",
    "##  Simple model\n",
    "\n",
    "x_simple_model = [\n",
    "\"S01_HC01_EST_VC35\",\n",
    "\"S01_HC01_EST_VC36\",\n",
    "\"S01_HC01_EST_VC28\",\n",
    "#\"S06_HC01_EST_VC41\",\n",
    "#\"S06_HC01_EST_VC50\",\n",
    "\"S08_HC01_EST_VC55\",\n",
    "\"S06_HC01_EST_VC29\",\n",
    "#\"S06_HC01_EST_VC33\",\n",
    "\"S06_HC01_EST_VC28\",\n",
    "\"S08_HC01_EST_VC10\",\n",
    "\"S07_HC02_EST_VC01\",\n",
    "\"S07_HC03_EST_VC01\",\n",
    "\"S19_HC01_EST_VC13\"]\n",
    "\n",
    "##  Full Model \n",
    "\n",
    "from collections import OrderedDict\n",
    "\n",
    "alphas = 10. ** np.arange(-5,6)\n",
    "d_models_lin = OrderedDict()\n",
    "\n",
    "\n",
    "    \n",
    "for alpha in alphas:\n",
    "    d_models_lin[\"Lasso alpha:\" + str(alpha) ] = Lasso( alpha=alpha)\n",
    "\n",
    "for alpha in alphas:\n",
    "    d_models_lin[\"Ridge alpha:\" + str(alpha) ] = Ridge( alpha=alpha)\n",
    "\n",
    "ratios = [0.1,0.3,0.5,0.7,0.9]\n",
    "\n",
    "for alpha in alphas:\n",
    "    for ratio in ratios:\n",
    "        d_models_lin[\"Elastic ratio:\"+str(ratio)+\" , alpha:\" + str(alpha) ] = ElasticNet( alpha=alpha, \n",
    "                                                                                         l1_ratio=ratio)\n",
    "\n",
    "    \n",
    "d_models_lin[\"AdaBoost depth:3, learning:0.05, ntrees:128\"] =  AdaBoostRegressor(\n",
    "    base_estimator= DecisionTreeRegressor(max_depth=3),\n",
    "                                  learning_rate = 0.05,\n",
    "                                  n_estimators=128)\n",
    "\n",
    "\n",
    "d_models_lin[\"OLS\"] = LinearRegression()\n",
    "# for a in iter(d_models_lin):\n",
    "#     print(a)\n",
    "\n",
    "\n",
    "\n",
    "df_r2 = cross_validate_models(x_train, \n",
    "                              y_train, \n",
    "                              population_train,\n",
    "                              d_models_lin, \n",
    "                              measure_function=calc_rsquared, \n",
    "                              n_splits=3)\n",
    "\n",
    "df_r2 = df_r2.rename(columns={\"measure\":\"r2\"})\n",
    "df_r2_sum = df_r2.groupby(by=\"model\").mean()\n",
    "df_r2_sum = df_r2_sum.sort_values(\"r2\",ascending=False)"
   ]
  },
  {
   "cell_type": "markdown",
   "metadata": {},
   "source": [
    "# Forecasts"
   ]
  },
  {
   "cell_type": "markdown",
   "metadata": {},
   "source": [
    "Our aim is to predict the numbers of murders in each MSA in a given year using Census and BLS data for the previous year. In principle the resulting model should be useful for making budgetary decisions about law enforcement and corrections spending in advance. Consequently, we use the following strategy to evaluate models:\n",
    "1) Use data from year $t$ to predict the number of murders in year $t+1$ (all our x variables have lag 1).\n",
    "2) Hold apart the number of murders in years 2015 and 2016 as a test set to evaluate the final model. It is better to reserve the latest available years because we expect them to have the most in common with future years for which the model can be employed. \n",
    "\n",
    "Initially we report results for both the murder rate and the number of murders. "
   ]
  },
  {
   "cell_type": "markdown",
   "metadata": {},
   "source": [
    "## Baseline (\"Very simple\") Model"
   ]
  },
  {
   "cell_type": "markdown",
   "metadata": {},
   "source": [
    "As a reference baseline case, we use an OLS regression on the three variables suggested in the prompt:\n",
    "- sex ratio\n",
    "- median age\n",
    "- median income\n",
    "\n",
    "Performance in terms of $R^2$:"
   ]
  },
  {
   "cell_type": "code",
   "execution_count": 2,
   "metadata": {
    "hide_input": true
   },
   "outputs": [
    {
     "data": {
      "text/html": [
       "<div>\n",
       "<style>\n",
       "    .dataframe thead tr:only-child th {\n",
       "        text-align: right;\n",
       "    }\n",
       "\n",
       "    .dataframe thead th {\n",
       "        text-align: left;\n",
       "    }\n",
       "\n",
       "    .dataframe tbody tr th {\n",
       "        vertical-align: top;\n",
       "    }\n",
       "</style>\n",
       "<table border=\"1\" class=\"dataframe\">\n",
       "  <thead>\n",
       "    <tr style=\"text-align: right;\">\n",
       "      <th></th>\n",
       "      <th>Murder count</th>\n",
       "      <th>Murder rate</th>\n",
       "    </tr>\n",
       "  </thead>\n",
       "  <tbody>\n",
       "    <tr>\n",
       "      <th>In sample</th>\n",
       "      <td>0.817760</td>\n",
       "      <td>0.055445</td>\n",
       "    </tr>\n",
       "    <tr>\n",
       "      <th>Out-of-sample</th>\n",
       "      <td>0.747537</td>\n",
       "      <td>0.030111</td>\n",
       "    </tr>\n",
       "  </tbody>\n",
       "</table>\n",
       "</div>"
      ],
      "text/plain": [
       "               Murder count  Murder rate\n",
       "In sample          0.817760     0.055445\n",
       "Out-of-sample      0.747537     0.030111"
      ]
     },
     "execution_count": 2,
     "metadata": {},
     "output_type": "execute_result"
    }
   ],
   "source": [
    "pd.reset_option(\"display.float_format\")\n",
    "\n",
    "# print(\"R2 at a murder count level\")\n",
    "ols_model = LinearRegression() \n",
    "ols_model.fit(x_train[x_vars_very_simple],y_train)\n",
    "vs_trn_nr = calc_rsquared(ols_model,x_train[x_vars_very_simple],y_train,population_train)\n",
    "vs_tst_nr = calc_rsquared(ols_model,x_test[x_vars_very_simple],y_test,population_test)\n",
    "\n",
    "# print(\"R2 at a murder rate level\")\n",
    "ols_model.fit(x_train[x_vars_very_simple],y_train)\n",
    "vs_trn_rt = r2_score(y_train,ols_model.predict(x_train[x_vars_very_simple]))\n",
    "vs_tst_rt = r2_score(y_test,ols_model.predict(x_test[x_vars_very_simple]))\n",
    "d = {\n",
    "    'In sample': [\n",
    "        vs_trn_nr,\n",
    "        vs_trn_rt\n",
    "    ], 'Out-of-sample': [\n",
    "        vs_tst_nr,\n",
    "        vs_tst_rt\n",
    "    ]\n",
    "}\n",
    "tab = pd.DataFrame.from_dict(d, orient=\"index\")\n",
    "tab.columns = [\"Murder count\", \"Murder rate\"]\n",
    "tab"
   ]
  },
  {
   "cell_type": "markdown",
   "metadata": {
    "hide_input": false
   },
   "source": [
    "## Extension: EDA-Informed (\"Simple\") Model"
   ]
  },
  {
   "cell_type": "markdown",
   "metadata": {
    "hide_input": true
   },
   "source": [
    "As the first extension, we add several variables to the OLS that were supported by exploratory analysis:\n",
    "- English-language speakers\n",
    "- Citizenship status\n",
    "- Residents who moved within the county\n",
    "- Residents who moved from a different county\n",
    "- Residents relying on public_transportation\n",
    "- Average travel time to work\n",
    "\n",
    "Performance in terms of $R^2$:"
   ]
  },
  {
   "cell_type": "code",
   "execution_count": 3,
   "metadata": {
    "hide_input": true
   },
   "outputs": [
    {
     "data": {
      "text/html": [
       "<div>\n",
       "<style>\n",
       "    .dataframe thead tr:only-child th {\n",
       "        text-align: right;\n",
       "    }\n",
       "\n",
       "    .dataframe thead th {\n",
       "        text-align: left;\n",
       "    }\n",
       "\n",
       "    .dataframe tbody tr th {\n",
       "        vertical-align: top;\n",
       "    }\n",
       "</style>\n",
       "<table border=\"1\" class=\"dataframe\">\n",
       "  <thead>\n",
       "    <tr style=\"text-align: right;\">\n",
       "      <th></th>\n",
       "      <th>Murder count</th>\n",
       "      <th>Murder rate</th>\n",
       "    </tr>\n",
       "  </thead>\n",
       "  <tbody>\n",
       "    <tr>\n",
       "      <th>In sample</th>\n",
       "      <td>0.856380</td>\n",
       "      <td>0.158388</td>\n",
       "    </tr>\n",
       "    <tr>\n",
       "      <th>Out-of-sample</th>\n",
       "      <td>0.823235</td>\n",
       "      <td>0.109559</td>\n",
       "    </tr>\n",
       "  </tbody>\n",
       "</table>\n",
       "</div>"
      ],
      "text/plain": [
       "               Murder count  Murder rate\n",
       "In sample          0.856380     0.158388\n",
       "Out-of-sample      0.823235     0.109559"
      ]
     },
     "execution_count": 3,
     "metadata": {},
     "output_type": "execute_result"
    }
   ],
   "source": [
    "pd.reset_option(\"display.float_format\")\n",
    "\n",
    "# print(\"R2 at a murder count level\")\n",
    "ols_model = LinearRegression() \n",
    "ols_model.fit(x_train[vars_small_model],y_train)\n",
    "vs_trn_nr = calc_rsquared(ols_model,x_train[vars_small_model],y_train,population_train)\n",
    "vs_tst_nr = calc_rsquared(ols_model,x_test[vars_small_model],y_test,population_test)\n",
    "\n",
    "# print(\"R2 at a murder rate level\")\n",
    "ols_model.fit(x_train[vars_small_model],y_train)\n",
    "vs_trn_rt = r2_score(y_train,ols_model.predict(x_train[vars_small_model]))\n",
    "vs_tst_rt = r2_score(y_test,ols_model.predict(x_test[vars_small_model]))\n",
    "d = {\n",
    "    'In sample': [\n",
    "        vs_trn_nr,\n",
    "        vs_trn_rt\n",
    "    ], 'Out-of-sample': [\n",
    "        vs_tst_nr,\n",
    "        vs_tst_rt\n",
    "    ]\n",
    "}\n",
    "tab = pd.DataFrame.from_dict(d, orient=\"index\")\n",
    "tab.columns = [\"Murder count\", \"Murder rate\"]\n",
    "tab"
   ]
  },
  {
   "cell_type": "markdown",
   "metadata": {},
   "source": [
    "From this point forward we report results in terms of the _murder count_ rather than the _murder rate_ because this is closest to our original question and performance on the count is greater."
   ]
  },
  {
   "cell_type": "markdown",
   "metadata": {},
   "source": [
    "## Advanced models\n",
    "\n",
    "To move beyond the small OLS models of intuitively plausible variables, we employ:\n",
    "- regularization or decision trees (in AdaBoost) to cope with a large number of potential features (approximately 1440)\n",
    "- cross-validation to select a model and parameters.\n",
    "\n",
    "In particular, we jointly select the best algorithm and parameters through cross validation. The algorithms we include are:\n",
    "- Lasso \n",
    "- Ridge\n",
    "- ElasticNet (because we heard this can perform better when there are too many predictors and few observations, as we have here)\n",
    "- AdaBoost"
   ]
  },
  {
   "cell_type": "markdown",
   "metadata": {},
   "source": [
    "### Performance\n",
    "\n",
    "The results, in terms of average $R^2$ across the 3-fold cross-validation sets are as follows:"
   ]
  },
  {
   "cell_type": "code",
   "execution_count": 4,
   "metadata": {
    "hide_input": true
   },
   "outputs": [
    {
     "data": {
      "text/html": [
       "<div>\n",
       "<style>\n",
       "    .dataframe thead tr:only-child th {\n",
       "        text-align: right;\n",
       "    }\n",
       "\n",
       "    .dataframe thead th {\n",
       "        text-align: left;\n",
       "    }\n",
       "\n",
       "    .dataframe tbody tr th {\n",
       "        vertical-align: top;\n",
       "    }\n",
       "</style>\n",
       "<table border=\"1\" class=\"dataframe\">\n",
       "  <thead>\n",
       "    <tr style=\"text-align: right;\">\n",
       "      <th></th>\n",
       "      <th>r2</th>\n",
       "    </tr>\n",
       "    <tr>\n",
       "      <th>model</th>\n",
       "      <th></th>\n",
       "    </tr>\n",
       "  </thead>\n",
       "  <tbody>\n",
       "    <tr>\n",
       "      <th>Lasso alpha:0.1</th>\n",
       "      <td>0.896383</td>\n",
       "    </tr>\n",
       "    <tr>\n",
       "      <th>Elastic ratio:0.9 , alpha:0.1</th>\n",
       "      <td>0.892084</td>\n",
       "    </tr>\n",
       "    <tr>\n",
       "      <th>Ridge alpha:1000.0</th>\n",
       "      <td>0.890841</td>\n",
       "    </tr>\n",
       "    <tr>\n",
       "      <th>Elastic ratio:0.7 , alpha:0.1</th>\n",
       "      <td>0.888808</td>\n",
       "    </tr>\n",
       "    <tr>\n",
       "      <th>Elastic ratio:0.1 , alpha:1.0</th>\n",
       "      <td>0.887917</td>\n",
       "    </tr>\n",
       "    <tr>\n",
       "      <th>Elastic ratio:0.3 , alpha:1.0</th>\n",
       "      <td>0.887770</td>\n",
       "    </tr>\n",
       "    <tr>\n",
       "      <th>Elastic ratio:0.5 , alpha:1.0</th>\n",
       "      <td>0.885713</td>\n",
       "    </tr>\n",
       "    <tr>\n",
       "      <th>Elastic ratio:0.5 , alpha:0.1</th>\n",
       "      <td>0.885675</td>\n",
       "    </tr>\n",
       "    <tr>\n",
       "      <th>Elastic ratio:0.3 , alpha:0.1</th>\n",
       "      <td>0.883998</td>\n",
       "    </tr>\n",
       "  </tbody>\n",
       "</table>\n",
       "</div>"
      ],
      "text/plain": [
       "                                     r2\n",
       "model                                  \n",
       "Lasso alpha:0.1                0.896383\n",
       "Elastic ratio:0.9 , alpha:0.1  0.892084\n",
       "Ridge alpha:1000.0             0.890841\n",
       "Elastic ratio:0.7 , alpha:0.1  0.888808\n",
       "Elastic ratio:0.1 , alpha:1.0  0.887917\n",
       "Elastic ratio:0.3 , alpha:1.0  0.887770\n",
       "Elastic ratio:0.5 , alpha:1.0  0.885713\n",
       "Elastic ratio:0.5 , alpha:0.1  0.885675\n",
       "Elastic ratio:0.3 , alpha:0.1  0.883998"
      ]
     },
     "execution_count": 4,
     "metadata": {},
     "output_type": "execute_result"
    }
   ],
   "source": [
    "# print(\"Best models\")\n",
    "df_r2_sum.iloc[0:9,:]"
   ]
  },
  {
   "cell_type": "markdown",
   "metadata": {},
   "source": [
    "Evaluating the best model on the test set produces:"
   ]
  },
  {
   "cell_type": "code",
   "execution_count": 5,
   "metadata": {
    "hide_input": true
   },
   "outputs": [
    {
     "name": "stdout",
     "output_type": "stream",
     "text": [
      "R squared of best model in test set:\n",
      " Lasso alpha:0.1\n",
      "0.853266617989\n"
     ]
    }
   ],
   "source": [
    "best_model = df_r2_sum.index[0]\n",
    "model = d_models_lin[best_model ]\n",
    "model.fit(x_train,y_train)\n",
    "r2 = calc_rsquared(model, x_test, y_test,population_test)\n",
    "print(\"R squared of best model in test set:\\n\",best_model)\n",
    "print(r2)"
   ]
  },
  {
   "cell_type": "markdown",
   "metadata": {},
   "source": [
    "Because the $R^2$ in the validation set is slightly better than in the test set, there is some indication of minor overfitting. However, this is a significantly smaller gap than observed in the baseline and simple extension model. Overfitting has been reduced, even though we have employed many more features. \n",
    "\n",
    "Importantly, performance is still very high, so we can be quite confident we have developed a strong-performing model. Broadly this represents a triumph of data-driven, automated processes over careful reflection."
   ]
  },
  {
   "cell_type": "markdown",
   "metadata": {},
   "source": [
    "### Interpretation"
   ]
  },
  {
   "cell_type": "markdown",
   "metadata": {},
   "source": [
    "The figures below shows the performance of the champion model by plotting predicted against average number of murders. The gray diagonal lines correspond to correct predictions. \n",
    "\n",
    "Interestingly, in the training set, the model performs comparatively poorly on MSAs with a large number of murders, systematically overestimating the number of murders. But this problem is *not* found in the test set. Regularization has been largely successful."
   ]
  },
  {
   "cell_type": "code",
   "execution_count": 6,
   "metadata": {
    "hide_input": true
   },
   "outputs": [
    {
     "data": {
      "image/png": "[encoded data removed]",
      "text/plain": [
       "<matplotlib.figure.Figure at 0x215a8749358>"
      ]
     },
     "metadata": {},
     "output_type": "display_data"
    }
   ],
   "source": [
    "sns.set_context(\"poster\")\n",
    "plt.subplot(1, 2, 1)\n",
    "plt.scatter(model.predict(x_train)/one_million *population_train, \n",
    "            y_train_count)\n",
    "plt.title(\"Training set\")\n",
    "plt.ylabel(\"actual\")\n",
    "plt.xlabel(\"predicted\")\n",
    "plt.plot(plt.gca().get_xlim(), plt.gca().get_xlim(), color=\"gray\")\n",
    "\n",
    "plt.subplot(1, 2, 2)\n",
    "plt.scatter(model.predict(x_test)/one_million*population_test, \n",
    "            y_test_count)\n",
    "plt.title(\"Test set\")\n",
    "plt.ylabel(\"actual\")\n",
    "plt.xlabel(\"predicted\")\n",
    "plt.plot(plt.gca().get_xlim(), plt.gca().get_xlim(), color=\"gray\")\n",
    "plt.show()"
   ]
  },
  {
   "cell_type": "markdown",
   "metadata": {},
   "source": [
    "Because Ridge is an extension of OLS, it is easy to interpret the coefficients on each of the variables, shown below:"
   ]
  },
  {
   "cell_type": "code",
   "execution_count": 7,
   "metadata": {
    "hide_input": true
   },
   "outputs": [
    {
     "data": {
      "text/html": [
       "<div>\n",
       "<style>\n",
       "    .dataframe thead tr:only-child th {\n",
       "        text-align: right;\n",
       "    }\n",
       "\n",
       "    .dataframe thead th {\n",
       "        text-align: left;\n",
       "    }\n",
       "\n",
       "    .dataframe tbody tr th {\n",
       "        vertical-align: top;\n",
       "    }\n",
       "</style>\n",
       "<table border=\"1\" class=\"dataframe\">\n",
       "  <thead>\n",
       "    <tr style=\"text-align: right;\">\n",
       "      <th></th>\n",
       "      <th>coef</th>\n",
       "      <th>variable</th>\n",
       "      <th>description</th>\n",
       "    </tr>\n",
       "  </thead>\n",
       "  <tbody>\n",
       "    <tr>\n",
       "      <th>0</th>\n",
       "      <td>-17.893939</td>\n",
       "      <td>S06_HC02_EST_VC25</td>\n",
       "      <td>Native; born in state of residence; Estimate; ...</td>\n",
       "    </tr>\n",
       "    <tr>\n",
       "      <th>1</th>\n",
       "      <td>-13.458215</td>\n",
       "      <td>pop_language_english</td>\n",
       "      <td>NaN</td>\n",
       "    </tr>\n",
       "    <tr>\n",
       "      <th>2</th>\n",
       "      <td>-11.053142</td>\n",
       "      <td>S06_HC02_EST_VC20</td>\n",
       "      <td>Native; born in state of residence; Estimate; ...</td>\n",
       "    </tr>\n",
       "    <tr>\n",
       "      <th>3</th>\n",
       "      <td>-10.569383</td>\n",
       "      <td>S06_HC03_EST_VC29</td>\n",
       "      <td>Native; born in other state in the U.S.; Estim...</td>\n",
       "    </tr>\n",
       "    <tr>\n",
       "      <th>4</th>\n",
       "      <td>-6.791582</td>\n",
       "      <td>S12_HC02_EST_VC33</td>\n",
       "      <td>Now married (except separated); Estimate; NATI...</td>\n",
       "    </tr>\n",
       "    <tr>\n",
       "      <th>5</th>\n",
       "      <td>-6.242251</td>\n",
       "      <td>S06_HC01_EST_VC25</td>\n",
       "      <td>Total; Estimate; RACE AND HISPANIC OR LATINO O...</td>\n",
       "    </tr>\n",
       "    <tr>\n",
       "      <th>6</th>\n",
       "      <td>-4.989624</td>\n",
       "      <td>S06_HC03_EST_VC25</td>\n",
       "      <td>Native; born in other state in the U.S.; Estim...</td>\n",
       "    </tr>\n",
       "    <tr>\n",
       "      <th>7</th>\n",
       "      <td>-4.748157</td>\n",
       "      <td>S12_HC01_EST_VC30</td>\n",
       "      <td>Total; Estimate; White alone, not Hispanic or ...</td>\n",
       "    </tr>\n",
       "    <tr>\n",
       "      <th>1134</th>\n",
       "      <td>2.044579</td>\n",
       "      <td>S25_HC02_EST_VC24</td>\n",
       "      <td>Owner-occupied housing units; Estimate; HOUSEH...</td>\n",
       "    </tr>\n",
       "    <tr>\n",
       "      <th>1133</th>\n",
       "      <td>2.001245</td>\n",
       "      <td>S19_HC03_EST_VC13</td>\n",
       "      <td>Married-couple families; Estimate; Median inco...</td>\n",
       "    </tr>\n",
       "    <tr>\n",
       "      <th>1135</th>\n",
       "      <td>2.045913</td>\n",
       "      <td>S13_HC01_EST_VC28</td>\n",
       "      <td>Total; Estimate; EDUCATIONAL ATTAINMENT - Grad...</td>\n",
       "    </tr>\n",
       "    <tr>\n",
       "      <th>1136</th>\n",
       "      <td>2.198169</td>\n",
       "      <td>S24_HC01_EST_VC28</td>\n",
       "      <td>Total; Estimate; Sales and office occupations:...</td>\n",
       "    </tr>\n",
       "    <tr>\n",
       "      <th>1137</th>\n",
       "      <td>2.515365</td>\n",
       "      <td>S08_HC02_EST_VC22</td>\n",
       "      <td>Male; Estimate; Living in a place</td>\n",
       "    </tr>\n",
       "    <tr>\n",
       "      <th>1139</th>\n",
       "      <td>3.225564</td>\n",
       "      <td>missing_S06_HC01_EST_VC20</td>\n",
       "      <td>NaN</td>\n",
       "    </tr>\n",
       "    <tr>\n",
       "      <th>1140</th>\n",
       "      <td>10.212589</td>\n",
       "      <td>missing_S06_HC03_EST_VC25</td>\n",
       "      <td>NaN</td>\n",
       "    </tr>\n",
       "  </tbody>\n",
       "</table>\n",
       "</div>"
      ],
      "text/plain": [
       "           coef                   variable  \\\n",
       "0    -17.893939          S06_HC02_EST_VC25   \n",
       "1    -13.458215       pop_language_english   \n",
       "2    -11.053142          S06_HC02_EST_VC20   \n",
       "3    -10.569383          S06_HC03_EST_VC29   \n",
       "4     -6.791582          S12_HC02_EST_VC33   \n",
       "5     -6.242251          S06_HC01_EST_VC25   \n",
       "6     -4.989624          S06_HC03_EST_VC25   \n",
       "7     -4.748157          S12_HC01_EST_VC30   \n",
       "1134   2.044579          S25_HC02_EST_VC24   \n",
       "1133   2.001245          S19_HC03_EST_VC13   \n",
       "1135   2.045913          S13_HC01_EST_VC28   \n",
       "1136   2.198169          S24_HC01_EST_VC28   \n",
       "1137   2.515365          S08_HC02_EST_VC22   \n",
       "1139   3.225564  missing_S06_HC01_EST_VC20   \n",
       "1140  10.212589  missing_S06_HC03_EST_VC25   \n",
       "\n",
       "                                            description  \n",
       "0     Native; born in state of residence; Estimate; ...  \n",
       "1                                                   NaN  \n",
       "2     Native; born in state of residence; Estimate; ...  \n",
       "3     Native; born in other state in the U.S.; Estim...  \n",
       "4     Now married (except separated); Estimate; NATI...  \n",
       "5     Total; Estimate; RACE AND HISPANIC OR LATINO O...  \n",
       "6     Native; born in other state in the U.S.; Estim...  \n",
       "7     Total; Estimate; White alone, not Hispanic or ...  \n",
       "1134  Owner-occupied housing units; Estimate; HOUSEH...  \n",
       "1133  Married-couple families; Estimate; Median inco...  \n",
       "1135  Total; Estimate; EDUCATIONAL ATTAINMENT - Grad...  \n",
       "1136  Total; Estimate; Sales and office occupations:...  \n",
       "1137                  Male; Estimate; Living in a place  \n",
       "1139                                                NaN  \n",
       "1140                                                NaN  "
      ]
     },
     "execution_count": 7,
     "metadata": {},
     "output_type": "execute_result"
    }
   ],
   "source": [
    "df_coef_lin = pd.DataFrame(dict(variable = x_train.columns,\n",
    "                            coef = model.coef_))\n",
    "df_coef_lin = df_coef_lin.sort_values(\"coef\")\n",
    "df_description = get_descriptions(list(df_coef_lin[\"variable\"]), df_meta)\n",
    "df_coef_lin = pd.merge(df_coef_lin,df_description, how=\"left\")\n",
    "\n",
    "l_obs = [0,1,2,3,4,5,6,7,-7,-8,-6,-5,-4,-2,-1]\n",
    "df_coef_lin.iloc[l_obs,:]"
   ]
  },
  {
   "cell_type": "markdown",
   "metadata": {},
   "source": [
    "Visually:"
   ]
  },
  {
   "cell_type": "code",
   "execution_count": 8,
   "metadata": {
    "hide_input": true
   },
   "outputs": [
    {
     "data": {
      "image/png": "[encoded data removed]",
      "text/plain": [
       "<matplotlib.figure.Figure at 0x215ae814668>"
      ]
     },
     "metadata": {},
     "output_type": "display_data"
    }
   ],
   "source": [
    "sns.set_context(\"notebook\")\n",
    "\n",
    "l_obs = [0,1,2,3,4,5,-6,-5,-4,-2,-1]\n",
    "coef_lin = df_coef_lin.iloc[l_obs,:][\"coef\"]\n",
    "coef_lin.index = df_coef_lin.iloc[l_obs,:][\"variable\"]\n",
    "plot_coef_lin = coef_lin.plot(kind=\"barh\")\n",
    "plot_coef_lin.set(xlabel=\"Beta Coefficient\", ylabel=\"\")\n",
    "plt.show()"
   ]
  },
  {
   "cell_type": "markdown",
   "metadata": {},
   "source": [
    "Notably these values are quite large (many MSAs only had 10 or fewer murders). This suggests that these features are doing real \"work\" in the prediction, which is not therefore driven exclusively by the total population term."
   ]
  },
  {
   "cell_type": "markdown",
   "metadata": {},
   "source": [
    "## Conclusions"
   ]
  },
  {
   "cell_type": "markdown",
   "metadata": {},
   "source": []
  },
  {
   "cell_type": "markdown",
   "metadata": {},
   "source": [
    "## Methodological Appendix\n",
    "\n",
    "In addition to the procedures described above:\n",
    "- Missing data were imputed when fewer than 20% of observations were available\n",
    "- When imputing data we took the mean of the training set and added a corresponding dummy variable\n",
    "- Features were standardized to the mean and standard deviation of the training set"
   ]
  }
 ],
 "metadata": {
  "anaconda-cloud": {},
  "hide_input": false,
  "kernelspec": {
   "display_name": "Python 3",
   "language": "python",
   "name": "python3"
  },
  "language_info": {
   "codemirror_mode": {
    "name": "ipython",
    "version": 3
   },
   "file_extension": ".py",
   "mimetype": "text/x-python",
   "name": "python",
   "nbconvert_exporter": "python",
   "pygments_lexer": "ipython3",
   "version": "3.6.1"
  },
  "toc": {
   "nav_menu": {
    "height": "48px",
    "width": "252px"
   },
   "number_sections": true,
   "sideBar": true,
   "skip_h1_title": false,
   "toc_cell": false,
   "toc_position": {},
   "toc_section_display": "block",
   "toc_window_display": true
  },
  "varInspector": {
   "cols": {
    "lenName": 16,
    "lenType": 16,
    "lenVar": 40
   },
   "kernels_config": {
    "python": {
     "delete_cmd_postfix": "",
     "delete_cmd_prefix": "del ",
     "library": "var_list.py",
     "varRefreshCmd": "print(var_dic_list())"
    },
    "r": {
     "delete_cmd_postfix": ") ",
     "delete_cmd_prefix": "rm(",
     "library": "var_list.r",
     "varRefreshCmd": "cat(var_dic_list()) "
    }
   },
   "oldHeight": 122.5,
   "position": {
    "height": "40px",
    "left": "1453.5px",
    "right": "20px",
    "top": "18px",
    "width": "250px"
   },
   "types_to_exclude": [
    "module",
    "function",
    "builtin_function_or_method",
    "instance",
    "_Feature"
   ],
   "varInspector_section_display": "none",
   "window_display": true
  }
 },
 "nbformat": 4,
 "nbformat_minor": 2
}
